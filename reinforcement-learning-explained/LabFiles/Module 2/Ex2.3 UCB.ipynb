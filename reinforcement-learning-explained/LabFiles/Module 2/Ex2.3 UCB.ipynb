{
 "cells": [
  {
   "cell_type": "markdown",
   "metadata": {},
   "source": [
    "# DAT257x: Reinforcement Learning Explained\n",
    "\n",
    "## Lab 2: Bandits\n",
    "\n",
    "### Exercise 2.3: UCB"
   ]
  },
  {
   "cell_type": "code",
   "execution_count": 1,
   "metadata": {},
   "outputs": [],
   "source": [
    "import numpy as np\n",
    "import sys\n",
    "\n",
    "if \"../\" not in sys.path:\n",
    "    sys.path.append(\"../\") \n",
    "\n",
    "from lib.envs.bandit import BanditEnv\n",
    "from lib.simulation import Experiment"
   ]
  },
  {
   "cell_type": "code",
   "execution_count": 2,
   "metadata": {},
   "outputs": [],
   "source": [
    "#Policy interface\n",
    "class Policy:\n",
    "    #num_actions: (int) Number of arms [indexed by 0 ... num_actions-1]\n",
    "    def __init__(self, num_actions):\n",
    "        self.num_actions = num_actions\n",
    "    \n",
    "    def act(self):\n",
    "        pass\n",
    "        \n",
    "    def feedback(self, action, reward):\n",
    "        pass"
   ]
  },
  {
   "cell_type": "code",
   "execution_count": 3,
   "metadata": {},
   "outputs": [],
   "source": [
    "#Greedy policy\n",
    "class Greedy(Policy):\n",
    "    def __init__(self, num_actions):\n",
    "        Policy.__init__(self, num_actions)\n",
    "        self.name = \"Greedy\"\n",
    "        self.total_rewards = np.zeros(num_actions, dtype = np.longdouble)\n",
    "        self.total_counts = np.zeros(num_actions, dtype = np.longdouble)\n",
    "    \n",
    "    def act(self):\n",
    "        current_averages = np.divide(self.total_rewards, self.total_counts, where = self.total_counts > 0)\n",
    "        current_averages[self.total_counts <= 0] = 0.5      #Correctly handles Bernoulli rewards; over-estimates otherwise\n",
    "        current_action = np.argmax(current_averages)\n",
    "        return current_action\n",
    "        \n",
    "    def feedback(self, action, reward):\n",
    "        self.total_rewards[action] += reward\n",
    "        self.total_counts[action] += 1"
   ]
  },
  {
   "cell_type": "code",
   "execution_count": 4,
   "metadata": {},
   "outputs": [],
   "source": [
    "#Epsilon Greedy policy\n",
    "class EpsilonGreedy(Greedy):\n",
    "    def __init__(self, num_actions, epsilon):\n",
    "        Greedy.__init__(self, num_actions)\n",
    "        if (epsilon is None or epsilon < 0 or epsilon > 1):\n",
    "            print(\"EpsilonGreedy: Invalid value of epsilon\", flush = True)\n",
    "            sys.exit(0)\n",
    "            \n",
    "        self.epsilon = epsilon\n",
    "        self.name = \"Epsilon Greedy\"\n",
    "    \n",
    "    def act(self):\n",
    "        choice = None\n",
    "        if self.epsilon == 0:\n",
    "            choice = 0\n",
    "        elif self.epsilon == 1:\n",
    "            choice = 1\n",
    "        else:\n",
    "            choice = np.random.binomial(1, self.epsilon)\n",
    "            \n",
    "        if choice == 1:\n",
    "            return np.random.choice(self.num_actions)\n",
    "        else:\n",
    "            current_averages = np.divide(self.total_rewards, self.total_counts, where = self.total_counts > 0)\n",
    "            current_averages[self.total_counts <= 0] = 0.5  #Correctly handles Bernoulli rewards; over-estimates otherwise\n",
    "            current_action = np.argmax(current_averages)\n",
    "            return current_action\n",
    "        "
   ]
  },
  {
   "cell_type": "markdown",
   "metadata": {},
   "source": [
    "Now let's implement a UCB algorithm. \n",
    "\n"
   ]
  },
  {
   "cell_type": "code",
   "execution_count": 25,
   "metadata": {},
   "outputs": [],
   "source": [
    "#UCB policy\n",
    "class UCB(Greedy):\n",
    "    def __init__(self, num_actions):\n",
    "        Greedy.__init__(self, num_actions)\n",
    "        self.name = \"UCB\"\n",
    "        self.round = 0\n",
    "        \n",
    "    def act(self):\n",
    "        current_action = None\n",
    "        self.round += 1\n",
    "        if self.round <= self.num_actions:\n",
    "            \"\"\"The first k rounds, where k is the number of arms/actions, play each arm/action once\"\"\"\n",
    "            current_action = self.round - 1\n",
    "        else:\n",
    "            \"\"\"At round t, play the arms with maximum average and exploration bonus\"\"\"\n",
    "            current_averages = np.divide(self.total_rewards, self.total_counts)\n",
    "            exploration_bonus = np.sqrt(2 * np.log(self.round) / self.total_counts)\n",
    "            current_action = np.argmax(current_averages + exploration_bonus)\n",
    "        return current_action"
   ]
  },
  {
   "cell_type": "markdown",
   "metadata": {},
   "source": [
    "Now let's prepare the simulation. "
   ]
  },
  {
   "cell_type": "code",
   "execution_count": null,
   "metadata": {},
   "outputs": [],
   "source": [
    "\n"
   ]
  },
  {
   "cell_type": "markdown",
   "metadata": {},
   "source": [
    "What do you think the regret graph would look like?"
   ]
  },
  {
   "cell_type": "code",
   "execution_count": 31,
   "metadata": {},
   "outputs": [
    {
     "name": "stdout",
     "output_type": "stream",
     "text": [
      "Distribution: normal (array([-1.74976547,  0.3426804 ,  1.1530358 , -0.25243604,  0.98132079,\n",
      "        0.51421884,  0.22117967, -1.07004333, -0.18949583,  0.25500144]), array([0.18532822, 0.10837689, 0.21969749, 0.97862378, 0.81168315,\n",
      "       0.17194101, 0.81622475, 0.27407375, 0.43170418, 0.94002982]))\n",
      "Optimal arm: 2\n",
      "--------------------------------------------------\n",
      "Policy: UCB \n",
      "Average Reward: 1.1342747501754709 \n",
      "Average Regret: 0.01799621376201861\n",
      "Arm pulls: [3.000e+00 2.700e+01 9.531e+03 5.000e+00 3.420e+02 4.000e+01 2.200e+01\n",
      " 5.000e+00 9.000e+00 1.600e+01]\n"
     ]
    },
    {
     "data": {
      "text/plain": [
       "<Figure size 720x360 with 0 Axes>"
      ]
     },
     "metadata": {},
     "output_type": "display_data"
    },
    {
     "data": {
      "image/png": "[encoded data removed]",
      "text/plain": [
       "<Figure size 720x360 with 1 Axes>"
      ]
     },
     "metadata": {
      "needs_background": "light"
     },
     "output_type": "display_data"
    },
    {
     "data": {
      "image/png": "[encoded data removed]",
      "text/plain": [
       "<Figure size 720x360 with 1 Axes>"
      ]
     },
     "metadata": {
      "needs_background": "light"
     },
     "output_type": "display_data"
    }
   ],
   "source": [
    "evaluation_seed = 100 #1239\n",
    "num_actions = 10\n",
    "trials = 10000\n",
    "distribution = \"normal\"\n",
    "env = BanditEnv(num_actions, distribution, evaluation_seed)\n",
    "agent = UCB(num_actions)\n",
    "experiment = Experiment(env, agent)\n",
    "experiment.run_bandit(trials)"
   ]
  },
  {
   "cell_type": "code",
   "execution_count": null,
   "metadata": {
    "collapsed": true,
    "jupyter": {
     "outputs_hidden": true
    }
   },
   "outputs": [],
   "source": []
  },
  {
   "cell_type": "code",
   "execution_count": null,
   "metadata": {},
   "outputs": [],
   "source": []
  }
 ],
 "metadata": {
  "kernelspec": {
   "display_name": "Python 3",
   "language": "python",
   "name": "python3"
  },
  "language_info": {
   "codemirror_mode": {
    "name": "ipython",
    "version": 3
   },
   "file_extension": ".py",
   "mimetype": "text/x-python",
   "name": "python",
   "nbconvert_exporter": "python",
   "pygments_lexer": "ipython3",
   "version": "3.6.9"
  }
 },
 "nbformat": 4,
 "nbformat_minor": 4
}
